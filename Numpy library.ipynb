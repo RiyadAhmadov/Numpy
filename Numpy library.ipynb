{
 "cells": [
  {
   "cell_type": "markdown",
   "id": "e6a034b6",
   "metadata": {},
   "source": [
    "# 🔎 Numpy"
   ]
  },
  {
   "cell_type": "code",
   "execution_count": 1,
   "id": "5dfe8d87",
   "metadata": {},
   "outputs": [],
   "source": [
    "import numpy as np"
   ]
  },
  {
   "cell_type": "markdown",
   "id": "6c19db41",
   "metadata": {},
   "source": [
    "# 📌Array and Dimension"
   ]
  },
  {
   "cell_type": "code",
   "execution_count": 58,
   "id": "e93eb6cb",
   "metadata": {},
   "outputs": [],
   "source": [
    "#let's create array \n",
    "#There are several types of array as dimension\n",
    "#0-D\n",
    "arr0 = np.array(1)\n",
    "#1-D\n",
    "arr1 = np.array([1,2,3,4,5,6])\n",
    "#2-D\n",
    "arr2 = np.array([[1,2,3],[4,5,6]])\n",
    "#3-D\n",
    "arr3 = np.array([[[1,2],[3,4]],[[5,6],[7,8]]])"
   ]
  },
  {
   "cell_type": "code",
   "execution_count": 59,
   "id": "a454b175",
   "metadata": {},
   "outputs": [
    {
     "name": "stdout",
     "output_type": "stream",
     "text": [
      "0\n",
      "1\n",
      "2\n",
      "3\n"
     ]
    }
   ],
   "source": [
    "#let's examine dimension\n",
    "#We are developers, this kind of writing is not suitable for us\n",
    "arr0.ndim\n",
    "arr1.ndim\n",
    "arr2.ndim\n",
    "arr3.ndim\n",
    "\n",
    "#We write with for and we use from eval\n",
    "for i in range(4):\n",
    "    print(eval(f\"arr{i}.ndim\"))"
   ]
  },
  {
   "cell_type": "code",
   "execution_count": 60,
   "id": "80336e9c",
   "metadata": {},
   "outputs": [
    {
     "name": "stdout",
     "output_type": "stream",
     "text": [
      "\tWe change dimension of array:\n",
      "・1-D Array --> [1 2 3 4 5 6]\n",
      "・2-D Array --> [[1 2 3 4 5 6]]\n",
      "・3-D Array --> [[[1 2 3 4 5 6]]]\n"
     ]
    }
   ],
   "source": [
    "#We can change dimension of array\n",
    "print(\"\\tWe change dimension of array:\")\n",
    "for i in range(1,4):\n",
    "    print(f\"・{i}-D Array --> {np.array([1,2,3,4,5,6] , ndmin = i)}\")\n",
    "arrdim = np.array([1,2,3,4,5,6] , ndmin = 3)"
   ]
  },
  {
   "cell_type": "code",
   "execution_count": 61,
   "id": "4368af02",
   "metadata": {},
   "outputs": [
    {
     "name": "stdout",
     "output_type": "stream",
     "text": [
      "1nd element on 1st row of 2st row: 5\n"
     ]
    }
   ],
   "source": [
    "#let's select range and element of array\n",
    "#We want to select 5 from \"arr3\"  \n",
    "print('1nd element on 1st row of 2st row:',arr3[1,0,0])"
   ]
  },
  {
   "cell_type": "code",
   "execution_count": 63,
   "id": "1c411477",
   "metadata": {},
   "outputs": [
    {
     "name": "stdout",
     "output_type": "stream",
     "text": [
      "1nd element on all dimension: [[1 3]\n",
      " [5 7]]\n"
     ]
    }
   ],
   "source": [
    "#We want to select first element all dimension\n",
    "print('1nd element on all dimension:',arr3[0:2,0:2,0])"
   ]
  },
  {
   "cell_type": "code",
   "execution_count": 75,
   "id": "098c6470",
   "metadata": {},
   "outputs": [
    {
     "name": "stdout",
     "output_type": "stream",
     "text": [
      "\tOriginal array: [1 2 3 4 5 6]\n",
      "・Step 1: [1 2 3 4 5 6]\n",
      "・Step 2: [1 3 5]\n",
      "・Step 3: [1 4]\n"
     ]
    }
   ],
   "source": [
    "#But steps???\n",
    "#If We want to select items from array with 2 step then:\n",
    "print(f'\\tOriginal array: {arr1}')\n",
    "for step in range(1,4):\n",
    "    print(f'・Step {step}:',eval(f'arr1[::{step}]'))"
   ]
  },
  {
   "cell_type": "markdown",
   "id": "953b72a8",
   "metadata": {},
   "source": [
    "# 📍 Data types"
   ]
  },
  {
   "cell_type": "code",
   "execution_count": 85,
   "id": "3d263f06",
   "metadata": {},
   "outputs": [
    {
     "data": {
      "text/plain": [
       "dtype('S2')"
      ]
     },
     "execution_count": 85,
     "metadata": {},
     "output_type": "execute_result"
    }
   ],
   "source": [
    "#let's change data type of array \n",
    "# i - integer\n",
    "# b - boolean\n",
    "# u - unsigned integer\n",
    "# f - float\n",
    "# c - complex float\n",
    "# m - timedelta\n",
    "# M - datetime\n",
    "# O - object\n",
    "# S - string\n",
    "# U - unicode string\n",
    "# V - fixed chunk of memory for other type ( void )\n",
    "\n",
    "arr4 = np.array([23,42,49,68,34,33] , dtype = \"S\")\n",
    "arr4.dtype"
   ]
  },
  {
   "cell_type": "code",
   "execution_count": 102,
   "id": "60758f15",
   "metadata": {},
   "outputs": [
    {
     "name": "stdout",
     "output_type": "stream",
     "text": [
      "・Floor float:  [1 2 4 5]\n",
      "・Ceil float:  [2 3 5 6]\n"
     ]
    }
   ],
   "source": [
    "#let's change float number to integer number in array\n",
    "#Astype convert floor float by default\n",
    "\n",
    "arr_float = np.array([1.1,2.3,4.8,5.2])\n",
    "print(\"・Floor float: \",arr_float.astype('i'))\n",
    "\n",
    "#If we want to convert ceil float then:\n",
    "\n",
    "print(\"・Ceil float: \",np.ceil(arr_float).astype('i'))"
   ]
  },
  {
   "cell_type": "markdown",
   "id": "d23a8e34",
   "metadata": {},
   "source": [
    "# 💡 NumPy Array Copy vs View"
   ]
  },
  {
   "cell_type": "code",
   "execution_count": 110,
   "id": "7e356d0b",
   "metadata": {},
   "outputs": [
    {
     "name": "stdout",
     "output_type": "stream",
     "text": [
      "\tBefore the change:\n",
      "\n",
      "・Original array:  [1.1 2.3 4.8 5.2]\n",
      "・Copy array:  [1.1 2.3 4.8 5.2] \n",
      "\n",
      "\tAfter the change:\n",
      "\n",
      "・Original array:  [1.1 2.3 4.8 5.2]\n",
      "・Copy array:  [ 1.1 49.   4.8  5.2]\n"
     ]
    }
   ],
   "source": [
    "#Let's examine difference between copy and view \n",
    "#Firstly , let's write copy of array\n",
    "\n",
    "arr_float_copy = arr_float.copy()\n",
    "print(\"\\tBefore the change:\\n\")\n",
    "print(\"・Original array: \" , arr_float)\n",
    "print(\"・Copy array: \" , arr_float_copy , \"\\n\")\n",
    "\n",
    "#let's change item in copy array\n",
    "\n",
    "arr_float_copy[1] = 49\n",
    "\n",
    "#Let's look at the copy and original arrays\n",
    "\n",
    "print(\"\\tAfter the change:\\n\")\n",
    "print(\"・Original array: \" , arr_float)\n",
    "print(\"・Copy array: \" , arr_float_copy)"
   ]
  },
  {
   "cell_type": "markdown",
   "id": "c970db07",
   "metadata": {},
   "source": [
    "## 📝 Result:\n",
    "### Original array don't change when we change copy array"
   ]
  },
  {
   "cell_type": "code",
   "execution_count": 111,
   "id": "bf913677",
   "metadata": {},
   "outputs": [
    {
     "name": "stdout",
     "output_type": "stream",
     "text": [
      "\tBefore the change:\n",
      "\n",
      "・Original array:  [1.1 2.3 4.8 5.2]\n",
      "・View array:  [1.1 2.3 4.8 5.2] \n",
      "\n",
      "\tAfter the change:\n",
      "\n",
      "・Original array:  [ 1.1 49.   4.8  5.2]\n",
      "・View array:  [ 1.1 49.   4.8  5.2]\n"
     ]
    }
   ],
   "source": [
    "#Second,let's write view of array\n",
    "\n",
    "arr_float_view = arr_float.view()\n",
    "print(\"\\tBefore the change:\\n\")\n",
    "print(\"・Original array: \" , arr_float)\n",
    "print(\"・View array: \" , arr_float_view , \"\\n\")\n",
    "\n",
    "#let's change item in view array\n",
    "\n",
    "arr_float_view[1] = 49\n",
    "\n",
    "#Let's look at the view and original arrays\n",
    "\n",
    "print(\"\\tAfter the change:\\n\")\n",
    "print(\"・Original array: \" , arr_float)\n",
    "print(\"・View array: \" , arr_float_view)"
   ]
  },
  {
   "cell_type": "markdown",
   "id": "8c61484f",
   "metadata": {},
   "source": [
    "## 📝 Result:\n",
    "### Original array change when we change view array"
   ]
  },
  {
   "cell_type": "code",
   "execution_count": 116,
   "id": "e1a87863",
   "metadata": {},
   "outputs": [
    {
     "name": "stdout",
     "output_type": "stream",
     "text": [
      "Data of View array:  [ 1.1 49.   4.8  5.2]\n",
      "Data of Copy array:  None\n"
     ]
    }
   ],
   "source": [
    "#let's check  the value of the base attribute an array owns\n",
    "\n",
    "print('Data of View array: ',arr_float_view.base)\n",
    "print('Data of Copy array: ',arr_float_copy.base)"
   ]
  },
  {
   "cell_type": "markdown",
   "id": "f3f187b5",
   "metadata": {},
   "source": [
    "# 📍 Shape of Array"
   ]
  },
  {
   "cell_type": "code",
   "execution_count": 122,
   "id": "b9de594c",
   "metadata": {},
   "outputs": [
    {
     "name": "stdout",
     "output_type": "stream",
     "text": [
      "Shape of Arr1:  (6,)\n",
      "Shape of Arr2:  (2, 3)\n",
      "Shape of Arr3:  (2, 2, 2)\n"
     ]
    }
   ],
   "source": [
    "#let's check shape of array\n",
    "\n",
    "for i in range(1,4):\n",
    "    print(f'Shape of Arr{i}: ',eval(f'arr{i}.shape'))"
   ]
  },
  {
   "cell_type": "code",
   "execution_count": 139,
   "id": "a04e2ea9",
   "metadata": {},
   "outputs": [
    {
     "name": "stdout",
     "output_type": "stream",
     "text": [
      "Array reshape: (6,3) --> [[ 1 65  3]\n",
      " [ 2  1  5]\n",
      " [34 54 67]\n",
      " [80 23 38]\n",
      " [12 87 14]\n",
      " [72 83 43]] --> Dimention: 2\n",
      "\n",
      "\n",
      "Array reshape: (3,3,2) --> [[[ 1 65]\n",
      "  [ 3  2]\n",
      "  [ 1  5]]\n",
      "\n",
      " [[34 54]\n",
      "  [67 80]\n",
      "  [23 38]]\n",
      "\n",
      " [[12 87]\n",
      "  [14 72]\n",
      "  [83 43]]] --> Dimention: 3\n"
     ]
    }
   ],
   "source": [
    "#Let's make reshape array\n",
    "\n",
    "arr6 = np.array([1,65,3,2,1,5,34,54,67,80,23,38,12,87,14,72,83,43])\n",
    "print(f\"Array reshape: (6,3) --> {arr6.reshape(6,3)} --> Dimention: {arr6.reshape(6,3).ndim}\\n\\n\")\n",
    "print(f\"Array reshape: (3,3,2) --> {arr6.reshape(3,3,2)} --> Dimention: {arr6.reshape(3,3,2).ndim}\")"
   ]
  },
  {
   "cell_type": "code",
   "execution_count": 155,
   "id": "44cbeeba",
   "metadata": {},
   "outputs": [
    {
     "data": {
      "text/plain": [
       "array([[[1, 2],\n",
       "        [3, 4]],\n",
       "\n",
       "       [[5, 6],\n",
       "        [7, 8]]])"
      ]
     },
     "execution_count": 155,
     "metadata": {},
     "output_type": "execute_result"
    }
   ],
   "source": [
    "#You are allowed to have one \"unknown\" dimension.\n",
    "#Pass -1 as the value, and NumPy will calculate this number for you\n",
    "\n",
    "arr = np.array([1, 2, 3, 4, 5, 6, 7, 8])\n",
    "arr.reshape(2, 2,-1)"
   ]
  },
  {
   "cell_type": "code",
   "execution_count": 156,
   "id": "f8b3348f",
   "metadata": {},
   "outputs": [
    {
     "name": "stdout",
     "output_type": "stream",
     "text": [
      "Dimension of arr3:  [[[1 2]\n",
      "  [3 4]]\n",
      "\n",
      " [[5 6]\n",
      "  [7 8]]] --> 3\n",
      "Dimension of arr3(after converting 1-D dimension):  [1 2 3 4 5 6 7 8] --> 1\n"
     ]
    }
   ],
   "source": [
    "#Let's convert a multidimensional array into a 1D array.\n",
    "\n",
    "print('Dimension of arr3: ',arr3,'-->',arr3.ndim)\n",
    "print('Dimension of arr3(after converting 1-D dimension): ',arr3.reshape(-1),'-->',arr3.reshape(-1).ndim)"
   ]
  },
  {
   "cell_type": "markdown",
   "id": "bbe60389",
   "metadata": {},
   "source": [
    "# 📌 Iterating"
   ]
  },
  {
   "cell_type": "code",
   "execution_count": 165,
   "id": "cb36e2fb",
   "metadata": {},
   "outputs": [
    {
     "name": "stdout",
     "output_type": "stream",
     "text": [
      "・Divide arrays: \n",
      "\n",
      "[1 2 3]\n",
      "[4 5 6]\n",
      "\n",
      "\n",
      "・Divide every elements: \n",
      "\n",
      "1\n",
      "2\n",
      "3\n",
      "4\n",
      "5\n",
      "6\n"
     ]
    }
   ],
   "source": [
    "#I mean that going through elements one by one\n",
    "\n",
    "print('・Divide arrays: \\n')\n",
    "for x in arr2:\n",
    "    print(x)\n",
    "print(\"\\n\")\n",
    "    \n",
    "#If we want to show one by one every element\n",
    "\n",
    "print('・Divide every elements: \\n')\n",
    "for x in arr2:\n",
    "    for y in x:\n",
    "        print(y)"
   ]
  },
  {
   "cell_type": "code",
   "execution_count": 168,
   "id": "91ce668e",
   "metadata": {},
   "outputs": [
    {
     "name": "stdout",
     "output_type": "stream",
     "text": [
      "・Nditer: \n",
      "\n",
      "1\n",
      "2\n",
      "3\n",
      "4\n",
      "5\n",
      "6\n",
      "7\n",
      "8\n"
     ]
    }
   ],
   "source": [
    "# nditer() is a useful function for iterations on arrays, solving common iteration challenges. It offers versatile capabilities.\n",
    "\n",
    "print(\"・Nditer: \\n\")\n",
    "for x in np.nditer(arr3):\n",
    "    print(x)"
   ]
  },
  {
   "cell_type": "code",
   "execution_count": 173,
   "id": "156bdc63",
   "metadata": {},
   "outputs": [
    {
     "name": "stdout",
     "output_type": "stream",
     "text": [
      "・Ndenumerate: \n",
      "\n",
      "(0, 0, 0) 1\n",
      "(0, 0, 1) 2\n",
      "(0, 1, 0) 3\n",
      "(0, 1, 1) 4\n",
      "(1, 0, 0) 5\n",
      "(1, 0, 1) 6\n",
      "(1, 1, 0) 7\n",
      "(1, 1, 1) 8\n",
      "\n",
      "・Ndenumerate and Nditer : \n",
      "\n",
      "(0,) 1\n",
      "(1,) 2\n",
      "(2,) 3\n",
      "(3,) 4\n",
      "(4,) 5\n",
      "(5,) 6\n",
      "(6,) 7\n",
      "(7,) 8\n"
     ]
    }
   ],
   "source": [
    "#ndenumerate() provides the index of elements during iteration, allowing for easy access to both the index and element simultaneously\n",
    "\n",
    "print(\"・Ndenumerate: \\n\")\n",
    "for id , x in np.ndenumerate(arr3):\n",
    "    print(id , x)\n",
    "    \n",
    "print(\"\\n・Ndenumerate and Nditer : \\n\")\n",
    "for id , x in np.ndenumerate(np.nditer(arr3)):\n",
    "    print(id , x)"
   ]
  },
  {
   "cell_type": "markdown",
   "id": "14bc87c6",
   "metadata": {},
   "source": [
    "# 📌 Concatinate "
   ]
  },
  {
   "cell_type": "code",
   "execution_count": 192,
   "id": "69ddd03c",
   "metadata": {},
   "outputs": [
    {
     "name": "stdout",
     "output_type": "stream",
     "text": [
      "・Array 1:  [[1 2 3]\n",
      " [4 5 6]]\n",
      "・Array 2:  [[ 8 12 15]\n",
      " [17 18 49]]\n",
      "\n",
      "・We join them:\n",
      "[[ 1  2  3  8 12 15]\n",
      " [ 4  5  6 17 18 49]]\n"
     ]
    }
   ],
   "source": [
    "#let's take two arrays and we join them \n",
    "\n",
    "arr5 = np.array([[8,12,15],[17,18,49]])\n",
    "\n",
    "print(\"・Array 1: \",arr2)\n",
    "print(\"・Array 2: \" ,arr5 )\n",
    "\n",
    "print(\"\\n・We join them:\")\n",
    "print(np.concatenate((arr2,arr5),axis = 1))"
   ]
  },
  {
   "cell_type": "code",
   "execution_count": 200,
   "id": "27266de2",
   "metadata": {},
   "outputs": [
    {
     "name": "stdout",
     "output_type": "stream",
     "text": [
      "・Array 1:  [[1 2 3]\n",
      " [4 5 6]]\n",
      "・Array 2:  [[ 8 12 15]\n",
      " [17 18 49]]\n",
      "\n",
      "・We join them:\n",
      "\n",
      "・Horizontally:\n",
      "\n",
      "[[ 1  2  3  8 12 15]\n",
      " [ 4  5  6 17 18 49]]\n",
      "\n",
      "・Vertically:\n",
      "\n",
      "[[ 1  2  3]\n",
      " [ 4  5  6]\n",
      " [ 8 12 15]\n",
      " [17 18 49]]\n"
     ]
    }
   ],
   "source": [
    "#Second method with stack\n",
    "\n",
    "print(\"・Array 1: \",arr2)\n",
    "print(\"・Array 2: \" ,arr5 )\n",
    "\n",
    "print(\"\\n・We join them:\")\n",
    "print(\"\\n・Horizontally:\\n\")\n",
    "print(np.hstack((arr2,arr5)))\n",
    "print(\"\\n・Vertically:\\n\")\n",
    "print(np.vstack((arr2,arr5)))"
   ]
  },
  {
   "cell_type": "code",
   "execution_count": 203,
   "id": "95cf85da",
   "metadata": {},
   "outputs": [
    {
     "name": "stdout",
     "output_type": "stream",
     "text": [
      "・The best shape as depth and height:\n",
      "\n",
      "[[[ 1  8]\n",
      "  [ 2 12]\n",
      "  [ 3 15]]\n",
      "\n",
      " [[ 4 17]\n",
      "  [ 5 18]\n",
      "  [ 6 49]]]\n"
     ]
    }
   ],
   "source": [
    "# Dstack() -  to stack along height, which is the same as depth.\n",
    "\n",
    "print(\"・The best shape as depth and height:\\n\")\n",
    "print(np.dstack((arr2,arr5)))"
   ]
  },
  {
   "cell_type": "markdown",
   "id": "3e6e1194",
   "metadata": {},
   "source": [
    "# 📌 Split Array"
   ]
  },
  {
   "cell_type": "code",
   "execution_count": 210,
   "id": "1347e383",
   "metadata": {},
   "outputs": [
    {
     "name": "stdout",
     "output_type": "stream",
     "text": [
      "・Let's divide array 4 piece: \n",
      "\n"
     ]
    },
    {
     "data": {
      "text/plain": [
       "[array([1, 2]), array([3, 4]), array([5, 6]), array([7, 8])]"
      ]
     },
     "execution_count": 210,
     "metadata": {},
     "output_type": "execute_result"
    }
   ],
   "source": [
    "#We split array with np.array_split\n",
    "\n",
    "print('・Let\\'s divide array 4 piece: \\n')\n",
    "np.array_split(arr,4)"
   ]
  },
  {
   "cell_type": "code",
   "execution_count": 228,
   "id": "c6fa1eba",
   "metadata": {},
   "outputs": [
    {
     "data": {
      "text/plain": [
       "[array([[1, 2, 3]]), array([[4, 5, 6]])]"
      ]
     },
     "execution_count": 228,
     "metadata": {},
     "output_type": "execute_result"
    }
   ],
   "source": [
    "np.vsplit(arr2,2)"
   ]
  },
  {
   "cell_type": "code",
   "execution_count": 225,
   "id": "424c627d",
   "metadata": {},
   "outputs": [
    {
     "data": {
      "text/plain": [
       "[array([[1],\n",
       "        [4]]),\n",
       " array([[2],\n",
       "        [5]]),\n",
       " array([[3],\n",
       "        [6]])]"
      ]
     },
     "execution_count": 225,
     "metadata": {},
     "output_type": "execute_result"
    }
   ],
   "source": [
    "np.hsplit(arr2,3)"
   ]
  },
  {
   "cell_type": "markdown",
   "id": "5739c820",
   "metadata": {},
   "source": [
    "# 💡 Searching Array"
   ]
  },
  {
   "cell_type": "code",
   "execution_count": 233,
   "id": "79a285a8",
   "metadata": {},
   "outputs": [
    {
     "name": "stdout",
     "output_type": "stream",
     "text": [
      "・Index value where value equals 2: \n"
     ]
    },
    {
     "data": {
      "text/plain": [
       "(array([0], dtype=int64), array([1], dtype=int64))"
      ]
     },
     "execution_count": 233,
     "metadata": {},
     "output_type": "execute_result"
    }
   ],
   "source": [
    "#Let's search 2 in \"arr2\" array \n",
    "print(\"・Index value where value equals 2: \")\n",
    "np.where(arr2 == 2)"
   ]
  },
  {
   "cell_type": "code",
   "execution_count": 246,
   "id": "8fd12f26",
   "metadata": {},
   "outputs": [
    {
     "name": "stdout",
     "output_type": "stream",
     "text": [
      "・Divide 2 without remainder: \n"
     ]
    },
    {
     "data": {
      "text/plain": [
       "(array([1, 3, 5, 7], dtype=int64),)"
      ]
     },
     "execution_count": 246,
     "metadata": {},
     "output_type": "execute_result"
    }
   ],
   "source": [
    "#Let's explore which values are divided 2 without a remainder\n",
    "print(\"・Divide 2 without remainder: \")\n",
    "np.where(arr%2 == 0)"
   ]
  },
  {
   "cell_type": "code",
   "execution_count": 253,
   "id": "5b8db13f",
   "metadata": {},
   "outputs": [
    {
     "name": "stdout",
     "output_type": "stream",
     "text": [
      "・Values: \n"
     ]
    },
    {
     "data": {
      "text/plain": [
       "[2, 4, 6, 8]"
      ]
     },
     "execution_count": 253,
     "metadata": {},
     "output_type": "execute_result"
    }
   ],
   "source": [
    "#Let's look at values which divide 2 without remainder\n",
    "print(\"・Values: \")\n",
    "index_list = list(np.where(arr%2 == 0))[0]\n",
    "value_list = []\n",
    "for index in index_list:\n",
    "    value_list.append(arr[index])\n",
    "value_list"
   ]
  },
  {
   "cell_type": "code",
   "execution_count": 256,
   "id": "0a90926d",
   "metadata": {},
   "outputs": [
    {
     "name": "stdout",
     "output_type": "stream",
     "text": [
      "・Index of 4 value in \"arr\" array: \n"
     ]
    },
    {
     "data": {
      "text/plain": [
       "3"
      ]
     },
     "execution_count": 256,
     "metadata": {},
     "output_type": "execute_result"
    }
   ],
   "source": [
    "#There are other method for searching --> searchsorted\n",
    "print(\"・Index of 4 value in \\\"arr\\\" array: \")\n",
    "np.searchsorted(arr, 4)"
   ]
  },
  {
   "cell_type": "code",
   "execution_count": 257,
   "id": "41421bf2",
   "metadata": {},
   "outputs": [
    {
     "name": "stdout",
     "output_type": "stream",
     "text": [
      "・Index of 4 value in \"arr\" array from right:\n"
     ]
    },
    {
     "data": {
      "text/plain": [
       "4"
      ]
     },
     "execution_count": 257,
     "metadata": {},
     "output_type": "execute_result"
    }
   ],
   "source": [
    "#If we want to find index from right side then we write:\n",
    "print(\"・Index of 4 value in \\\"arr\\\" array from right:\")\n",
    "np.searchsorted(arr, 4, side = \"right\")"
   ]
  },
  {
   "cell_type": "markdown",
   "id": "b1969caf",
   "metadata": {},
   "source": [
    "# 📉 Sort Array"
   ]
  },
  {
   "cell_type": "code",
   "execution_count": 263,
   "id": "8926e77a",
   "metadata": {},
   "outputs": [
    {
     "name": "stdout",
     "output_type": "stream",
     "text": [
      "・Original array: \n",
      " [ 1 65  3  2  1  5 34 54 67 80 23 38 12 87 14 72 83 43]\n",
      "\n",
      "・Sorted array: \n",
      " [ 1  1  2  3  5 12 14 23 34 38 43 54 65 67 72 80 83 87]\n"
     ]
    }
   ],
   "source": [
    "#Let's look at example about sort arrays \n",
    "print(\"・Original array: \\n\", arr6)\n",
    "print(\"\\n・Sorted array: \\n\",np.sort(arr6))"
   ]
  },
  {
   "cell_type": "code",
   "execution_count": 266,
   "id": "c4965236",
   "metadata": {},
   "outputs": [
    {
     "name": "stdout",
     "output_type": "stream",
     "text": [
      "・Original array: \n",
      " [[ 8  4  5]\n",
      " [90 12 23]]\n",
      "\n",
      "・Sorted array: \n",
      " [[ 4  5  8]\n",
      " [12 23 90]]\n"
     ]
    }
   ],
   "source": [
    "#Let's check for 2 and more dimension arrays\n",
    "arr7 = np.array([[8,4,5],[90,12,23]])\n",
    "print(\"・Original array: \\n\", arr7)\n",
    "print(\"\\n・Sorted array: \\n\",np.sort(arr7))"
   ]
  },
  {
   "cell_type": "code",
   "execution_count": 268,
   "id": "c65980d8",
   "metadata": {},
   "outputs": [
    {
     "name": "stdout",
     "output_type": "stream",
     "text": [
      "・Original array: \n",
      " [[['mysql' 'oraclesql' 'nosql']\n",
      "  ['python' 'jupyter' 'anaconda']]]\n",
      "\n",
      "・Sorted array: \n",
      " [[['mysql' 'nosql' 'oraclesql']\n",
      "  ['anaconda' 'jupyter' 'python']]]\n"
     ]
    }
   ],
   "source": [
    "#Let's check for words\n",
    "arr8 = np.array([[['mysql','oraclesql','nosql'],['python','jupyter','anaconda']]])\n",
    "print(\"・Original array: \\n\", arr8)\n",
    "print(\"\\n・Sorted array: \\n\",np.sort(arr8))"
   ]
  },
  {
   "cell_type": "markdown",
   "id": "f7020c4f",
   "metadata": {},
   "source": [
    "# 🔖 Filter Array"
   ]
  },
  {
   "cell_type": "code",
   "execution_count": 279,
   "id": "429d504d",
   "metadata": {},
   "outputs": [
    {
     "name": "stdout",
     "output_type": "stream",
     "text": [
      "・Original array: \n",
      " [1 2 3 4 5 6]\n",
      "\n",
      "・Filter list: \n",
      " [False, True, False, False, True, True]\n",
      "\n",
      "・Filtered array: \n",
      " [2 5 6]\n"
     ]
    }
   ],
   "source": [
    "#Let's see what filter arrays are\n",
    "print(\"・Original array: \\n\", arr1)\n",
    "filter = [False , True, False , False , True , True]\n",
    "print(\"\\n・Filter list: \\n\" ,filter)\n",
    "print(\"\\n・Filtered array: \\n\",arr1[filter]) "
   ]
  },
  {
   "cell_type": "code",
   "execution_count": 290,
   "id": "6b6026d5",
   "metadata": {},
   "outputs": [
    {
     "name": "stdout",
     "output_type": "stream",
     "text": [
      "・We create filter list which values greater than 4: \n",
      "Values: [5, 6]\n",
      "\n",
      "・We create filter list which values divide 2 without remainder: \n",
      "Values: [2, 4, 6]\n"
     ]
    }
   ],
   "source": [
    "#Let's create filter list with condition\n",
    "print(\"・We create filter list which values greater than 4: \")\n",
    "filter_list_2 = arr1 > 4\n",
    "print(\"Values:\",list(arr1[filter_list_2]))\n",
    "print(\"\\n・We create filter list which values divide 2 without remainder: \")\n",
    "filter_list_3 = arr1%2 == 0 \n",
    "print(\"Values:\",list(arr1[filter_list_3]))"
   ]
  },
  {
   "cell_type": "markdown",
   "id": "7d69fdf2",
   "metadata": {},
   "source": [
    "# 📌 Numpy Random"
   ]
  },
  {
   "cell_type": "code",
   "execution_count": 297,
   "id": "8772f3ed",
   "metadata": {},
   "outputs": [],
   "source": [
    "#Firstly we import random from numpy module\n",
    "from numpy import random"
   ]
  },
  {
   "cell_type": "code",
   "execution_count": 300,
   "id": "48d50191",
   "metadata": {},
   "outputs": [
    {
     "name": "stdout",
     "output_type": "stream",
     "text": [
      "・Random number: \n",
      " 73\n",
      "\n",
      "・Random 5 number:\n"
     ]
    },
    {
     "data": {
      "text/plain": [
       "array([34, 94, 33, 47, 81])"
      ]
     },
     "execution_count": 300,
     "metadata": {},
     "output_type": "execute_result"
    }
   ],
   "source": [
    "#random.randint --> 1-D\n",
    "#we choose random number\n",
    "print(\"・Random number: \\n\", random.randint(100))\n",
    "#we choose random 5 number\n",
    "print(\"\\n・Random 5 number:\")\n",
    "random.randint(100,size = (5))"
   ]
  },
  {
   "cell_type": "code",
   "execution_count": 304,
   "id": "d7563f25",
   "metadata": {},
   "outputs": [
    {
     "data": {
      "text/plain": [
       "array([[0.97679482, 0.57402167, 0.98065468],\n",
       "       [0.59488305, 0.66562976, 0.40104138]])"
      ]
     },
     "execution_count": 304,
     "metadata": {},
     "output_type": "execute_result"
    }
   ],
   "source": [
    "#random.rand --> 2-D\n",
    "#we choose randomly 2-D array which set between 0 and 1\n",
    "random.rand(2,3)"
   ]
  },
  {
   "cell_type": "code",
   "execution_count": 310,
   "id": "fe56ba15",
   "metadata": {},
   "outputs": [
    {
     "data": {
      "text/plain": [
       "array([['Ehmedov', 'Riyad']], dtype='<U8')"
      ]
     },
     "execution_count": 310,
     "metadata": {},
     "output_type": "execute_result"
    }
   ],
   "source": [
    "#Choice --> choose randomly choice\n",
    "#we choose randomly choice\n",
    "random.choice(['Riyad','Ehmedov','Vasif', 'Memmedli', 'Tural','Eliyev'], size = (1,2))"
   ]
  },
  {
   "cell_type": "markdown",
   "id": "8bb3fb6d",
   "metadata": {},
   "source": [
    "# 📌 Data Distribution"
   ]
  },
  {
   "cell_type": "code",
   "execution_count": 318,
   "id": "9014956a",
   "metadata": {},
   "outputs": [
    {
     "data": {
      "text/plain": [
       "array(['Riyad', 'Ehmedov'], dtype='<U8')"
      ]
     },
     "execution_count": 318,
     "metadata": {},
     "output_type": "execute_result"
    }
   ],
   "source": [
    "#we can choose the probability of values\n",
    "random.choice(['Riyad','Ehmedov','Vasif', 'Memmedli', 'Tural','Eliyev'],p = [0.4,0.4,0.05,0.05,0.05,0.05],size = (2))"
   ]
  },
  {
   "cell_type": "markdown",
   "id": "9b86f5ce",
   "metadata": {},
   "source": [
    "# 📌 Random Permutations"
   ]
  },
  {
   "cell_type": "code",
   "execution_count": 326,
   "id": "d17db5bb",
   "metadata": {},
   "outputs": [
    {
     "name": "stdout",
     "output_type": "stream",
     "text": [
      "・Original array: \n",
      " [3 2 4 5 6 1]\n",
      "・Shuffle array: \n",
      " [4 2 1 3 6 5]\n"
     ]
    }
   ],
   "source": [
    "#we can write with shuffle or permutation methods\n",
    "print(\"・Original array: \\n\", arr1)\n",
    "random.shuffle(arr1)\n",
    "print(\"・Shuffle array: \\n\" , arr1)"
   ]
  },
  {
   "cell_type": "code",
   "execution_count": 332,
   "id": "1fc612a2",
   "metadata": {},
   "outputs": [
    {
     "name": "stdout",
     "output_type": "stream",
     "text": [
      "・Permutation array: \n",
      " [1 4 3 6 5 2]\n"
     ]
    }
   ],
   "source": [
    "#Permutation\n",
    "print(\"・Permutation array: \\n\",random.permutation(arr1))"
   ]
  },
  {
   "cell_type": "markdown",
   "id": "a45337f3",
   "metadata": {},
   "source": [
    "# 📌 Normal Distribution"
   ]
  },
  {
   "cell_type": "code",
   "execution_count": 335,
   "id": "bb706fb6",
   "metadata": {},
   "outputs": [
    {
     "data": {
      "text/plain": [
       "array([[ 0.11122654, -0.33815104, -0.76732894,  0.93476839],\n",
       "       [ 1.30931828, -0.71852874, -0.60828542, -1.63662928],\n",
       "       [ 0.83087712,  0.41653381, -1.00981608,  0.6781485 ]])"
      ]
     },
     "execution_count": 335,
     "metadata": {},
     "output_type": "execute_result"
    }
   ],
   "source": [
    "random.normal(size = (3,4))"
   ]
  },
  {
   "cell_type": "code",
   "execution_count": 343,
   "id": "0e7d97ab",
   "metadata": {},
   "outputs": [
    {
     "data": {
      "text/plain": [
       "array([[ 3.02028058, -1.09398441, -0.94790039, -1.46790999,  0.49938454],\n",
       "       [ 3.74448889,  1.79918195, -1.53993593,  2.01051848,  2.18339223],\n",
       "       [ 0.51580022,  0.19349424,  0.41324234,  4.14607494, -1.76583103],\n",
       "       [ 3.29838372,  0.05271651,  2.15134149, -0.84956764,  1.07489831]])"
      ]
     },
     "execution_count": 343,
     "metadata": {},
     "output_type": "execute_result"
    }
   ],
   "source": [
    "#mean --> 1 and standart deviation --> 2  \n",
    "random.normal(loc = 1 , scale = 2,size = (4,5))"
   ]
  },
  {
   "cell_type": "code",
   "execution_count": 369,
   "id": "129ffd47",
   "metadata": {},
   "outputs": [
    {
     "name": "stderr",
     "output_type": "stream",
     "text": [
      "C:\\Users\\HP\\AppData\\Local\\Temp\\ipykernel_2276\\657940813.py:3: UserWarning: \n",
      "\n",
      "`distplot` is a deprecated function and will be removed in seaborn v0.14.0.\n",
      "\n",
      "Please adapt your code to use either `displot` (a figure-level function with\n",
      "similar flexibility) or `histplot` (an axes-level function for histograms).\n",
      "\n",
      "For a guide to updating your code to use the new functions, please see\n",
      "https://gist.github.com/mwaskom/de44147ed2974457ad6372750bbe5751\n",
      "\n",
      "  sns.distplot(random.normal(loc = 1,scale = 2,size = 100))\n"
     ]
    },
    {
     "data": {
      "text/plain": [
       "<Axes: ylabel='Density'>"
      ]
     },
     "execution_count": 369,
     "metadata": {},
     "output_type": "execute_result"
    },
    {
     "data": {
      "image/png": "[encoded data removed]",
      "text/plain": [
       "<Figure size 640x480 with 1 Axes>"
      ]
     },
     "metadata": {},
     "output_type": "display_data"
    }
   ],
   "source": [
    "#let's visualize this line chart \n",
    "import seaborn as sns\n",
    "sns.distplot(random.normal(loc = 1,scale = 2,size = 100))"
   ]
  },
  {
   "cell_type": "markdown",
   "id": "bf24e4e5",
   "metadata": {},
   "source": [
    "# 📌 Binomial Distribution"
   ]
  },
  {
   "cell_type": "code",
   "execution_count": 349,
   "id": "42604ded",
   "metadata": {},
   "outputs": [
    {
     "data": {
      "text/plain": [
       "array([12, 12, 12, 12, 12, 11, 11, 12, 12, 12])"
      ]
     },
     "execution_count": 349,
     "metadata": {},
     "output_type": "execute_result"
    }
   ],
   "source": [
    "#Binomial distribution --> 12 - 0.99 probability and 10 test size\n",
    "random.binomial(n = 12 , p = 0.99 , size = 10)"
   ]
  },
  {
   "cell_type": "code",
   "execution_count": 368,
   "id": "57ab3599",
   "metadata": {},
   "outputs": [
    {
     "name": "stderr",
     "output_type": "stream",
     "text": [
      "C:\\Users\\HP\\AppData\\Local\\Temp\\ipykernel_2276\\145178747.py:3: UserWarning: \n",
      "\n",
      "`distplot` is a deprecated function and will be removed in seaborn v0.14.0.\n",
      "\n",
      "Please adapt your code to use either `displot` (a figure-level function with\n",
      "similar flexibility) or `histplot` (an axes-level function for histograms).\n",
      "\n",
      "For a guide to updating your code to use the new functions, please see\n",
      "https://gist.github.com/mwaskom/de44147ed2974457ad6372750bbe5751\n",
      "\n",
      "  sns.distplot(random.binomial(n = 29 , p = 0.9 , size = 10), hist = True)\n"
     ]
    },
    {
     "data": {
      "image/png": "[encoded data removed]",
      "text/plain": [
       "<Figure size 640x480 with 1 Axes>"
      ]
     },
     "metadata": {},
     "output_type": "display_data"
    }
   ],
   "source": [
    "#let's visualize this in line chart \n",
    "import matplotlib.pyplot as plt\n",
    "sns.distplot(random.binomial(n = 29 , p = 0.9 , size = 10), hist = True)\n",
    "plt.show()"
   ]
  },
  {
   "cell_type": "code",
   "execution_count": 390,
   "id": "c7fabeea",
   "metadata": {},
   "outputs": [
    {
     "name": "stderr",
     "output_type": "stream",
     "text": [
      "C:\\Users\\HP\\AppData\\Local\\Temp\\ipykernel_2276\\907579988.py:2: UserWarning: \n",
      "\n",
      "`distplot` is a deprecated function and will be removed in seaborn v0.14.0.\n",
      "\n",
      "Please adapt your code to use either `displot` (a figure-level function with\n",
      "similar flexibility) or `kdeplot` (an axes-level function for kernel density plots).\n",
      "\n",
      "For a guide to updating your code to use the new functions, please see\n",
      "https://gist.github.com/mwaskom/de44147ed2974457ad6372750bbe5751\n",
      "\n",
      "  sns.distplot(random.normal(loc = 49 , scale = 4 ,size = 1000),hist = False)\n",
      "C:\\Users\\HP\\AppData\\Local\\Temp\\ipykernel_2276\\907579988.py:3: UserWarning: \n",
      "\n",
      "`distplot` is a deprecated function and will be removed in seaborn v0.14.0.\n",
      "\n",
      "Please adapt your code to use either `displot` (a figure-level function with\n",
      "similar flexibility) or `kdeplot` (an axes-level function for kernel density plots).\n",
      "\n",
      "For a guide to updating your code to use the new functions, please see\n",
      "https://gist.github.com/mwaskom/de44147ed2974457ad6372750bbe5751\n",
      "\n",
      "  sns.distplot(random.binomial(n = 49 , p = 0.9,size = 1000),hist = False)\n"
     ]
    },
    {
     "data": {
      "text/plain": [
       "<Axes: ylabel='Density'>"
      ]
     },
     "execution_count": 390,
     "metadata": {},
     "output_type": "execute_result"
    },
    {
     "data": {
      "image/png": "[encoded data removed]",
      "text/plain": [
       "<Figure size 640x480 with 1 Axes>"
      ]
     },
     "metadata": {},
     "output_type": "display_data"
    }
   ],
   "source": [
    "#normal distribution and binomial distribution\n",
    "sns.distplot(random.normal(loc = 49 , scale = 4 ,size = 1000),hist = False)\n",
    "sns.distplot(random.binomial(n = 49 , p = 0.9,size = 1000),hist = False)"
   ]
  },
  {
   "cell_type": "code",
   "execution_count": 391,
   "id": "f4424290",
   "metadata": {},
   "outputs": [
    {
     "name": "stderr",
     "output_type": "stream",
     "text": [
      "C:\\Users\\HP\\AppData\\Local\\Temp\\ipykernel_2276\\2801182016.py:1: UserWarning: \n",
      "\n",
      "`distplot` is a deprecated function and will be removed in seaborn v0.14.0.\n",
      "\n",
      "Please adapt your code to use either `displot` (a figure-level function with\n",
      "similar flexibility) or `kdeplot` (an axes-level function for kernel density plots).\n",
      "\n",
      "For a guide to updating your code to use the new functions, please see\n",
      "https://gist.github.com/mwaskom/de44147ed2974457ad6372750bbe5751\n",
      "\n",
      "  sns.distplot(random.normal(loc=50, scale=5, size=1000), hist=False, label='normal')\n",
      "C:\\Users\\HP\\AppData\\Local\\Temp\\ipykernel_2276\\2801182016.py:2: UserWarning: \n",
      "\n",
      "`distplot` is a deprecated function and will be removed in seaborn v0.14.0.\n",
      "\n",
      "Please adapt your code to use either `displot` (a figure-level function with\n",
      "similar flexibility) or `kdeplot` (an axes-level function for kernel density plots).\n",
      "\n",
      "For a guide to updating your code to use the new functions, please see\n",
      "https://gist.github.com/mwaskom/de44147ed2974457ad6372750bbe5751\n",
      "\n",
      "  sns.distplot(random.binomial(n=100, p=0.5, size=1000), hist=False, label='binomial')\n"
     ]
    },
    {
     "data": {
      "text/plain": [
       "<Axes: ylabel='Density'>"
      ]
     },
     "execution_count": 391,
     "metadata": {},
     "output_type": "execute_result"
    },
    {
     "data": {
      "image/png": "[encoded data removed]",
      "text/plain": [
       "<Figure size 640x480 with 1 Axes>"
      ]
     },
     "metadata": {},
     "output_type": "display_data"
    }
   ],
   "source": [
    "sns.distplot(random.normal(loc=50, scale=5, size=1000), hist=False, label='normal')\n",
    "sns.distplot(random.binomial(n=100, p=0.5, size=1000), hist=False, label='binomial')"
   ]
  },
  {
   "cell_type": "markdown",
   "id": "21e23d75",
   "metadata": {},
   "source": [
    "# 📌 Poisson Distribution"
   ]
  },
  {
   "cell_type": "code",
   "execution_count": 394,
   "id": "e6de738a",
   "metadata": {},
   "outputs": [
    {
     "data": {
      "text/plain": [
       "array([7, 0, 2, 4, 3, 2, 4, 2, 1, 2])"
      ]
     },
     "execution_count": 394,
     "metadata": {},
     "output_type": "execute_result"
    }
   ],
   "source": [
    "#We write lam and size for poisson distribution \n",
    "random.poisson(lam = 3, size = 10)"
   ]
  },
  {
   "cell_type": "code",
   "execution_count": 395,
   "id": "98005056",
   "metadata": {},
   "outputs": [
    {
     "name": "stderr",
     "output_type": "stream",
     "text": [
      "C:\\Users\\HP\\AppData\\Local\\Temp\\ipykernel_2276\\4023379711.py:1: UserWarning: \n",
      "\n",
      "`distplot` is a deprecated function and will be removed in seaborn v0.14.0.\n",
      "\n",
      "Please adapt your code to use either `displot` (a figure-level function with\n",
      "similar flexibility) or `histplot` (an axes-level function for histograms).\n",
      "\n",
      "For a guide to updating your code to use the new functions, please see\n",
      "https://gist.github.com/mwaskom/de44147ed2974457ad6372750bbe5751\n",
      "\n",
      "  sns.distplot(random.poisson(lam = 13, size = 100))\n"
     ]
    },
    {
     "data": {
      "text/plain": [
       "<Axes: ylabel='Density'>"
      ]
     },
     "execution_count": 395,
     "metadata": {},
     "output_type": "execute_result"
    },
    {
     "data": {
      "image/png": "[encoded data removed]",
      "text/plain": [
       "<Figure size 640x480 with 1 Axes>"
      ]
     },
     "metadata": {},
     "output_type": "display_data"
    }
   ],
   "source": [
    "sns.distplot(random.poisson(lam = 13, size = 100))"
   ]
  },
  {
   "cell_type": "code",
   "execution_count": 410,
   "id": "fe2bfc2a",
   "metadata": {},
   "outputs": [
    {
     "name": "stderr",
     "output_type": "stream",
     "text": [
      "C:\\Users\\HP\\AppData\\Local\\Temp\\ipykernel_2276\\1446727594.py:2: UserWarning: \n",
      "\n",
      "`distplot` is a deprecated function and will be removed in seaborn v0.14.0.\n",
      "\n",
      "Please adapt your code to use either `displot` (a figure-level function with\n",
      "similar flexibility) or `kdeplot` (an axes-level function for kernel density plots).\n",
      "\n",
      "For a guide to updating your code to use the new functions, please see\n",
      "https://gist.github.com/mwaskom/de44147ed2974457ad6372750bbe5751\n",
      "\n",
      "  sns.distplot(random.poisson(lam = 2 , size = 100),hist = False , color = 'b')\n",
      "C:\\Users\\HP\\AppData\\Local\\Temp\\ipykernel_2276\\1446727594.py:3: UserWarning: \n",
      "\n",
      "`distplot` is a deprecated function and will be removed in seaborn v0.14.0.\n",
      "\n",
      "Please adapt your code to use either `displot` (a figure-level function with\n",
      "similar flexibility) or `kdeplot` (an axes-level function for kernel density plots).\n",
      "\n",
      "For a guide to updating your code to use the new functions, please see\n",
      "https://gist.github.com/mwaskom/de44147ed2974457ad6372750bbe5751\n",
      "\n",
      "  sns.distplot(random.binomial(n = 2 , p = 0.5 , size = 100), hist = False , color = 'r')\n",
      "C:\\Users\\HP\\AppData\\Local\\Temp\\ipykernel_2276\\1446727594.py:4: UserWarning: \n",
      "\n",
      "`distplot` is a deprecated function and will be removed in seaborn v0.14.0.\n",
      "\n",
      "Please adapt your code to use either `displot` (a figure-level function with\n",
      "similar flexibility) or `kdeplot` (an axes-level function for kernel density plots).\n",
      "\n",
      "For a guide to updating your code to use the new functions, please see\n",
      "https://gist.github.com/mwaskom/de44147ed2974457ad6372750bbe5751\n",
      "\n",
      "  sns.distplot(random.normal(loc = 2 , scale = 1 , size = 100) , hist = False ,color = 'green')\n"
     ]
    },
    {
     "data": {
      "image/png": "[encoded data removed]",
      "text/plain": [
       "<Figure size 640x480 with 1 Axes>"
      ]
     },
     "metadata": {},
     "output_type": "display_data"
    }
   ],
   "source": [
    "#(Normal | Binomial | Poisson) --> difference\n",
    "sns.distplot(random.poisson(lam = 2 , size = 100),hist = False , color = 'b')\n",
    "sns.distplot(random.binomial(n = 2 , p = 0.5 , size = 100), hist = False , color = 'r')\n",
    "sns.distplot(random.normal(loc = 2 , scale = 1 , size = 100) , hist = False ,color = 'green')\n",
    "plt.legend(['Poisson', 'Binomial', 'Normal'])\n",
    "plt.show()"
   ]
  },
  {
   "cell_type": "markdown",
   "id": "fa1c5ff8",
   "metadata": {},
   "source": [
    "# 📌 Uniform"
   ]
  },
  {
   "cell_type": "code",
   "execution_count": 412,
   "id": "0458be20",
   "metadata": {},
   "outputs": [
    {
     "name": "stderr",
     "output_type": "stream",
     "text": [
      "C:\\Users\\HP\\AppData\\Local\\Temp\\ipykernel_2276\\1389143837.py:2: UserWarning: \n",
      "\n",
      "`distplot` is a deprecated function and will be removed in seaborn v0.14.0.\n",
      "\n",
      "Please adapt your code to use either `displot` (a figure-level function with\n",
      "similar flexibility) or `kdeplot` (an axes-level function for kernel density plots).\n",
      "\n",
      "For a guide to updating your code to use the new functions, please see\n",
      "https://gist.github.com/mwaskom/de44147ed2974457ad6372750bbe5751\n",
      "\n",
      "  sns.distplot(random.uniform(size = 1000) , hist = False)\n"
     ]
    },
    {
     "data": {
      "text/plain": [
       "<Axes: ylabel='Density'>"
      ]
     },
     "execution_count": 412,
     "metadata": {},
     "output_type": "execute_result"
    },
    {
     "data": {
      "image/png": "[encoded data removed]",
      "text/plain": [
       "<Figure size 640x480 with 1 Axes>"
      ]
     },
     "metadata": {},
     "output_type": "display_data"
    }
   ],
   "source": [
    "#Used to describe probability where every event has equal chances of occuring\n",
    "sns.distplot(random.uniform(size = 1000) , hist = False)"
   ]
  },
  {
   "cell_type": "markdown",
   "id": "5bde4b22",
   "metadata": {},
   "source": [
    "# 📌 Logistic Distribution"
   ]
  },
  {
   "cell_type": "code",
   "execution_count": 419,
   "id": "0c356869",
   "metadata": {},
   "outputs": [
    {
     "name": "stderr",
     "output_type": "stream",
     "text": [
      "C:\\Users\\HP\\AppData\\Local\\Temp\\ipykernel_2276\\2349838158.py:4: UserWarning: \n",
      "\n",
      "`distplot` is a deprecated function and will be removed in seaborn v0.14.0.\n",
      "\n",
      "Please adapt your code to use either `displot` (a figure-level function with\n",
      "similar flexibility) or `histplot` (an axes-level function for histograms).\n",
      "\n",
      "For a guide to updating your code to use the new functions, please see\n",
      "https://gist.github.com/mwaskom/de44147ed2974457ad6372750bbe5751\n",
      "\n",
      "  sns.distplot(random.logistic(loc = 49,scale = 5,  size = 1000))\n",
      "C:\\Users\\HP\\AppData\\Local\\Temp\\ipykernel_2276\\2349838158.py:5: UserWarning: \n",
      "\n",
      "`distplot` is a deprecated function and will be removed in seaborn v0.14.0.\n",
      "\n",
      "Please adapt your code to use either `displot` (a figure-level function with\n",
      "similar flexibility) or `histplot` (an axes-level function for histograms).\n",
      "\n",
      "For a guide to updating your code to use the new functions, please see\n",
      "https://gist.github.com/mwaskom/de44147ed2974457ad6372750bbe5751\n",
      "\n",
      "  sns.distplot(random.normal(loc = 49 ,scale = 5 , size = 1000))\n"
     ]
    },
    {
     "data": {
      "text/plain": [
       "<matplotlib.legend.Legend at 0x27ca1e828c0>"
      ]
     },
     "execution_count": 419,
     "metadata": {},
     "output_type": "execute_result"
    },
    {
     "data": {
      "image/png": "[encoded data removed]",
      "text/plain": [
       "<Figure size 640x480 with 1 Axes>"
      ]
     },
     "metadata": {},
     "output_type": "display_data"
    }
   ],
   "source": [
    "#Logistic Distribution is used to describe growth\n",
    "#Used extensively in machine learning in logistic regression, neural networks etc\n",
    "\n",
    "sns.distplot(random.logistic(loc = 49,scale = 5,  size = 1000))\n",
    "sns.distplot(random.normal(loc = 49 ,scale = 5 , size = 1000))\n",
    "plt.legend(['Logistic' , 'Normal'])"
   ]
  },
  {
   "cell_type": "markdown",
   "id": "6d04f292",
   "metadata": {},
   "source": [
    "# 📍 Simple Arithmetic"
   ]
  },
  {
   "cell_type": "code",
   "execution_count": 437,
   "id": "f4e6f6a7",
   "metadata": {},
   "outputs": [
    {
     "name": "stdout",
     "output_type": "stream",
     "text": [
      "・First array:  [ 1  2 -3  4  5] \n",
      "・Second array:  [ 6  7  8 -9 10] \n",
      "\n",
      "・Operator add:  [ 7  9  5 -5 15]\n",
      "・Operator subtract:  [ -5  -5 -11  13  -5]\n",
      "・Operator divide:  [ 0.16666667  0.28571429 -0.375      -0.44444444  0.5       ]\n",
      "・Operator multiply:  [  6  14 -24 -36  50]\n",
      "・Operator mod:  [ 1  2  5 -5  5]\n",
      "・Operator remainder:  [ 1  2  5 -5  5]\n",
      "・Operator divmod:  (array([ 0,  0, -1, -1,  0]), array([ 1,  2,  5, -5,  5]))\n",
      "・Operator absolute:  [1 2 3 4 5]\n"
     ]
    }
   ],
   "source": [
    "#Let's write simple arithmetic operations\n",
    "arr8 = np.array([1, 2, -3, 4, 5])\n",
    "arr9 = np.array([6, 7, 8, -9, 10])\n",
    "print(\"・First array: \",arr8,\"\\n・Second array: \", arr9,\"\\n\")\n",
    "for i in ['add','subtract','divide','multiply','mod','remainder','divmod','absolute']:\n",
    "    result = eval(f\"np.{i}(arr8,arr9)\")\n",
    "    print(f\"・Operator {i}: \", result)"
   ]
  },
  {
   "cell_type": "markdown",
   "id": "1ed49918",
   "metadata": {},
   "source": [
    "# 📍 Rounding Decimals"
   ]
  },
  {
   "cell_type": "code",
   "execution_count": 446,
   "id": "2677813f",
   "metadata": {},
   "outputs": [
    {
     "name": "stdout",
     "output_type": "stream",
     "text": [
      "Original numbers: [-3.1234,3.4124]\n",
      "Trunc or Fix: [-3.  3.]\n",
      "Round: [-3.12  3.41]\n",
      "Floor: [-4.  3.]\n",
      "Ceil: [-3.  4.]\n"
     ]
    }
   ],
   "source": [
    "#Let's round numbers\n",
    "print(\"Original numbers: [-3.1234,3.4124]\")\n",
    "print(\"Trunc or Fix:\",np.trunc([-3.1234,3.4124]))\n",
    "print(\"Round:\",np.around([-3.1234,3.4124],2))\n",
    "print(\"Floor:\",np.floor([-3.1234,3.4124]))\n",
    "print(\"Ceil:\",np.ceil([-3.1234,3.4124]))"
   ]
  },
  {
   "cell_type": "markdown",
   "id": "dc33276d",
   "metadata": {},
   "source": [
    "# 📩 Log and Log2"
   ]
  },
  {
   "cell_type": "code",
   "execution_count": 453,
   "id": "241bebf1",
   "metadata": {},
   "outputs": [
    {
     "name": "stdout",
     "output_type": "stream",
     "text": [
      "・Original Array:  [1 2 3 4 5 6 7 8 9]\n",
      "・Log Array:  [0.         1.         1.5849625  2.         2.32192809 2.5849625\n",
      " 2.80735492 3.         3.169925  ]\n"
     ]
    }
   ],
   "source": [
    "array = np.arange(1,10)\n",
    "print(\"・Original Array: \" , array)\n",
    "print(\"・Log Array: \", np.log2(array))"
   ]
  },
  {
   "cell_type": "code",
   "execution_count": 460,
   "id": "fb867ed8",
   "metadata": {},
   "outputs": [
    {
     "name": "stdout",
     "output_type": "stream",
     "text": [
      "・Summation:  140\n",
      "・Summation Axis(1):  [42 98]\n",
      "・Cumulative Summation:  [  3   7  12  18  25  33  42  53  65  78  92 107 123 140]\n"
     ]
    }
   ],
   "source": [
    "array1 = np.arange(3,10)\n",
    "array2 = np.arange(11,18)\n",
    "print(\"・Summation: \",np.sum([array1,array2]))\n",
    "print(\"・Summation Axis(1): \",np.sum([array1,array2] , axis =1))\n",
    "print(\"・Cumulative Summation: \",np.cumsum([array1,array2]))"
   ]
  },
  {
   "cell_type": "markdown",
   "id": "5eb1e77c",
   "metadata": {},
   "source": [
    "# 📍 Product Array"
   ]
  },
  {
   "cell_type": "code",
   "execution_count": 466,
   "id": "032bc08f",
   "metadata": {},
   "outputs": [
    {
     "name": "stdout",
     "output_type": "stream",
     "text": [
      "・Original array: [3 4 5 6 7 8 9]\n",
      "\n",
      "・Product of array: 181440\n",
      "\n",
      "・Cumulative Product of array: [     3     12     60    360   2520  20160 181440]\n"
     ]
    }
   ],
   "source": [
    "#Let's use product function for finding multiply of all items of array\n",
    "print(\"・Original array:\" , array1)\n",
    "print(\"\\n・Product of array:\" , np.prod(array1))\n",
    "print(\"\\n・Cumulative Product of array:\",np.cumprod(array1))"
   ]
  },
  {
   "cell_type": "code",
   "execution_count": 470,
   "id": "30d90284",
   "metadata": {},
   "outputs": [
    {
     "name": "stdout",
     "output_type": "stream",
     "text": [
      "・Original arrays: [3 4 5 6 7 8 9] [11 12 13 14 15 16 17]\n",
      "\n",
      "・Product of array: -1088167936\n",
      "\n",
      "・Product of array (axis = 1): [  181440 98017920]\n"
     ]
    }
   ],
   "source": [
    "#Let's find product of two array\n",
    "print(\"・Original arrays:\" , array1 , array2)\n",
    "print(\"\\n・Product of array:\" , np.prod([array1,array2]))\n",
    "print(\"\\n・Product of array (axis = 1):\" , np.prod([array1,array2],axis =1 ))"
   ]
  },
  {
   "cell_type": "markdown",
   "id": "e4e33d0c",
   "metadata": {},
   "source": [
    "# 📍 Difference Array"
   ]
  },
  {
   "cell_type": "code",
   "execution_count": 474,
   "id": "f01c151b",
   "metadata": {},
   "outputs": [
    {
     "name": "stdout",
     "output_type": "stream",
     "text": [
      "・Original array: [3 4 5 6 7 8 9]\n",
      "・Difference of array: [1 1 1 1 1 1]\n"
     ]
    }
   ],
   "source": [
    "#Let's find the difference of the array elements with the previous one\n",
    "\n",
    "print(\"・Original array:\" , array1)\n",
    "print(\"・Difference of array:\",np.diff(array1))"
   ]
  },
  {
   "cell_type": "code",
   "execution_count": 496,
   "id": "8a36ada0",
   "metadata": {},
   "outputs": [
    {
     "name": "stdout",
     "output_type": "stream",
     "text": [
      "・Original array: [ 1 65  3  2  1  5 34 54 67 80 23 38 12 87 14 72 83 43]\n",
      "・Difference of array(n = 1): [ 64 -62  -1  -1   4  29  20  13  13 -57  15 -26  75 -73  58  11 -40]\n",
      "・Difference of array(n = 2): [-126   61    0    5   25   -9   -7    0  -70   72  -41  101 -148  131\n",
      "  -47  -51]\n",
      "・Difference of array(n = 3): [ 187  -61    5   20  -34    2    7  -70  142 -113  142 -249  279 -178\n",
      "   -4]\n",
      "・Difference of array(n = 4): [-248   66   15  -54   36    5  -77  212 -255  255 -391  528 -457  174]\n",
      "・Difference of array(n = 5): [ 314  -51  -69   90  -31  -82  289 -467  510 -646  919 -985  631]\n",
      "・Difference of array(n = 6): [ -365   -18   159  -121   -51   371  -756   977 -1156  1565 -1904  1616]\n",
      "・Difference of array(n = 7): [  347   177  -280    70   422 -1127  1733 -2133  2721 -3469  3520]\n",
      "・Difference of array(n = 8): [ -170  -457   350   352 -1549  2860 -3866  4854 -6190  6989]\n",
      "・Difference of array(n = 9): [  -287    807      2  -1901   4409  -6726   8720 -11044  13179]\n",
      "・Difference of array(n = 10): [  1094   -805  -1903   6310 -11135  15446 -19764  24223]\n",
      "・Difference of array(n = 11): [ -1899  -1098   8213 -17445  26581 -35210  43987]\n",
      "・Difference of array(n = 12): [   801   9311 -25658  44026 -61791  79197]\n",
      "・Difference of array(n = 13): [   8510  -34969   69684 -105817  140988]\n",
      "・Difference of array(n = 14): [ -43479  104653 -175501  246805]\n",
      "・Difference of array(n = 15): [ 148132 -280154  422306]\n",
      "・Difference of array(n = 16): [-428286  702460]\n",
      "・Difference of array(n = 17): [1130746]\n"
     ]
    }
   ],
   "source": [
    "#If we want to find result of two time process then we write: \n",
    "print(\"・Original array:\" , arr6)\n",
    "for i in range(1,len(arr6)):\n",
    "    print(f\"・Difference of array(n = {i}):\",np.diff(arr6 , n = i))"
   ]
  },
  {
   "cell_type": "markdown",
   "id": "1000b728",
   "metadata": {},
   "source": [
    "# 📍 Lowest Common Multiply"
   ]
  },
  {
   "cell_type": "code",
   "execution_count": 499,
   "id": "4c780176",
   "metadata": {},
   "outputs": [
    {
     "name": "stdout",
     "output_type": "stream",
     "text": [
      "・Number1: 49 \n",
      "・Number2: 7\n",
      "・LCM of numbers:  49\n"
     ]
    }
   ],
   "source": [
    "#Let's find lcm of 2 and more number\n",
    "number1 = 49\n",
    "number2 = 7 \n",
    "print(f\"・Number1: {number1} \\n・Number2: {number2}\")\n",
    "print('・LCM of numbers: ',np.lcm(number1 , number2))"
   ]
  },
  {
   "cell_type": "code",
   "execution_count": 514,
   "id": "2741cb01",
   "metadata": {},
   "outputs": [
    {
     "name": "stdout",
     "output_type": "stream",
     "text": [
      "・Entering Array:  [2 3 4 9]\n",
      "・LCM of numbers:  36\n"
     ]
    }
   ],
   "source": [
    "#If we want to enter more number for finding lcm then we write with reduce\n",
    "\n",
    "array_lcm = np.array([2,3,4,9])\n",
    "print('・Entering Array: ',array_lcm)\n",
    "print('・LCM of numbers: ',np.lcm.reduce(array_lcm))"
   ]
  },
  {
   "cell_type": "markdown",
   "id": "7eeda890",
   "metadata": {},
   "source": [
    "# 📍 Greatest Common Denominator"
   ]
  },
  {
   "cell_type": "code",
   "execution_count": 522,
   "id": "ed97cd49",
   "metadata": {},
   "outputs": [
    {
     "name": "stdout",
     "output_type": "stream",
     "text": [
      "・Number1: 316 \n",
      "・Number2: 218\n",
      "・GCD of numbers:  2\n"
     ]
    }
   ],
   "source": [
    "# Greatest Common Denominator\n",
    "number1 = 316\n",
    "number2 = 218\n",
    "print(f\"・Number1: {number1} \\n・Number2: {number2}\")\n",
    "print('・GCD of numbers: ',np.gcd(number1 , number2))"
   ]
  },
  {
   "cell_type": "code",
   "execution_count": 524,
   "id": "0881c323",
   "metadata": {},
   "outputs": [
    {
     "name": "stdout",
     "output_type": "stream",
     "text": [
      "・Entering Array:  [316 218 244]\n",
      "・GCD of numbers:  2\n"
     ]
    }
   ],
   "source": [
    "#If we want to enter more number for finding gcd then we write with reduce\n",
    "\n",
    "array_gcd = np.array([316,218,244])\n",
    "print('・Entering Array: ',array_gcd)\n",
    "print('・GCD of numbers: ',np.gcd.reduce(array_gcd))"
   ]
  },
  {
   "cell_type": "markdown",
   "id": "d920a675",
   "metadata": {},
   "source": [
    "# 🔑 Trigonometric Functions"
   ]
  },
  {
   "cell_type": "code",
   "execution_count": 531,
   "id": "5d58398e",
   "metadata": {},
   "outputs": [
    {
     "name": "stdout",
     "output_type": "stream",
     "text": [
      "・Scale : 1.5707963267948966\n",
      "・Sin:  1.0\n",
      "・Cos:  6.123233995736766e-17\n",
      "・Tan:  1.633123935319537e+16\n"
     ]
    }
   ],
   "source": [
    "#Let's find sin,cos and tan\n",
    "\n",
    "scale = np.pi/2\n",
    "print(\"・Scale :\",scale)\n",
    "print(\"・Sin: \",np.sin(scale))\n",
    "print(\"・Cos: \",np.cos(scale))\n",
    "print(\"・Tan: \",np.tan(scale))"
   ]
  },
  {
   "cell_type": "markdown",
   "id": "c05e1fbb",
   "metadata": {},
   "source": [
    "# 🔑 Rad2Deg and Deg2Rad"
   ]
  },
  {
   "cell_type": "code",
   "execution_count": 539,
   "id": "b9fddcfb",
   "metadata": {},
   "outputs": [
    {
     "name": "stdout",
     "output_type": "stream",
     "text": [
      "・Original array:  [1.57079633 0.78539816 0.62831853]\n",
      "・Rad2Deg:  [90. 45. 36.] \n",
      "\n",
      "\n",
      "・Original array:  [90. 45. 36.]\n",
      "・Deg2Rad:  [1.57079633 0.78539816 0.62831853]\n"
     ]
    }
   ],
   "source": [
    "#Let's find radian from degree and degree from radian\n",
    "\n",
    "array = np.array([np.pi/2 , np.pi/4 , np.pi/5 ])\n",
    "print(\"・Original array: \", array)\n",
    "print('・Rad2Deg: ',np.rad2deg(array),\"\\n\\n\")\n",
    "print('・Original array: ',np.rad2deg(array))\n",
    "print(\"・Deg2Rad: \",np.deg2rad(np.rad2deg(array)))"
   ]
  },
  {
   "cell_type": "markdown",
   "id": "9b8f88d6",
   "metadata": {},
   "source": [
    "# 🔑 Hypotenues"
   ]
  },
  {
   "cell_type": "code",
   "execution_count": 541,
   "id": "562b6562",
   "metadata": {},
   "outputs": [
    {
     "name": "stdout",
     "output_type": "stream",
     "text": [
      "・Sides of Triangle: 3 | 4\n",
      "・Hypotenues:  5.0\n"
     ]
    }
   ],
   "source": [
    "side1 = 3 \n",
    "side2 = 4\n",
    "print(f\"・Sides of Triangle: {side1} | {side2}\")\n",
    "print(\"・Hypotenues: \",np.hypot(side1, side2))"
   ]
  },
  {
   "cell_type": "markdown",
   "id": "a73316b6",
   "metadata": {},
   "source": [
    "# 🔑 Hyperbolic Functions"
   ]
  },
  {
   "cell_type": "code",
   "execution_count": 544,
   "id": "cc7ef065",
   "metadata": {},
   "outputs": [
    {
     "name": "stdout",
     "output_type": "stream",
     "text": [
      "・Original array:  [1.57079633 0.78539816 0.62831853]\n",
      "\n",
      "・Sinh:  [2.3012989  0.86867096 0.670484  ] \n",
      "\n",
      "・Cosh:  [2.50917848 1.32460909 1.20397209] \n",
      "\n",
      "・Tanh:  [0.91715234 0.6557942  0.55689331] \n",
      "\n"
     ]
    }
   ],
   "source": [
    "#Let's find hyperbolic functions(sinh ,cosh ,tanh)\n",
    "\n",
    "print(\"・Original array: \", array)\n",
    "print('\\n・Sinh: ',np.sinh(array),\"\\n\")\n",
    "print('・Cosh: ',np.cosh(array),\"\\n\")\n",
    "print('・Tanh: ',np.tanh(array),\"\\n\")"
   ]
  },
  {
   "cell_type": "markdown",
   "id": "fdb7201f",
   "metadata": {},
   "source": [
    "# 📍 Set Operations"
   ]
  },
  {
   "cell_type": "code",
   "execution_count": 564,
   "id": "4bb4bcd9",
   "metadata": {},
   "outputs": [
    {
     "name": "stdout",
     "output_type": "stream",
     "text": [
      "-Array 1: [43, 34, 5, 6, 3, 23, 1, 3, 42, 24, 23, 54, 23, 3, 1, 4, 3] \n",
      "-Array 2: [13, 34, 25, 23, 1, 12, 23, 4, 12, 42, 34, 2, 43, 41, 23]\n",
      "\n",
      "・Unique values:  [ 1  2  4 12 13 23 25 34 41 42 43]\n",
      "・Intersect values:  [ 1  4 23 34 42 43]\n",
      "・Difference values:  [ 3  5  6 24 54]\n",
      "・\"Not present in both\" values:  [ 2  3  5  6 12 13 24 25 41 54]\n"
     ]
    }
   ],
   "source": [
    "array_1 = [43,34,5,6,3,23,1,3,42,24,23,54,23,3,1,4,3]\n",
    "array_2 = [13,34,25,23,1,12,23,4,12,42,34,2,43,41,23]\n",
    "\n",
    "print(f\"-Array 1: {array_1} \\n-Array 2: {array_2}\")\n",
    "print(\"\\n・Unique values: \",np.unique(array_2))\n",
    "print(\"・Intersect values: \",np.intersect1d(array_1,array_2))\n",
    "print(\"・Difference values: \",np.setdiff1d(array_1,array_2))\n",
    "print(\"・\\\"Not present in both\\\" values: \",np.setxor1d(array_1,array_2))"
   ]
  },
  {
   "cell_type": "markdown",
   "id": "54e41662",
   "metadata": {},
   "source": [
    "# 📌 The End "
   ]
  }
 ],
 "metadata": {
  "kernelspec": {
   "display_name": "Python 3 (ipykernel)",
   "language": "python",
   "name": "python3"
  },
  "language_info": {
   "codemirror_mode": {
    "name": "ipython",
    "version": 3
   },
   "file_extension": ".py",
   "mimetype": "text/x-python",
   "name": "python",
   "nbconvert_exporter": "python",
   "pygments_lexer": "ipython3",
   "version": "3.10.9"
  }
 },
 "nbformat": 4,
 "nbformat_minor": 5
}
